{
 "cells": [
  {
   "cell_type": "code",
   "execution_count": 3,
   "metadata": {},
   "outputs": [
    {
     "name": "stdout",
     "output_type": "stream",
     "text": [
      "Now\n",
      "$39.19\n"
     ]
    }
   ],
   "source": [
    "import requests\n",
    "from bs4 import BeautifulSoup\n",
    "import openpyxl\n",
    "import urllib.request\n",
    "from urllib.request import Request, urlopen\n",
    "\n",
    "excel = openpyxl.Workbook()\n",
    "excelSheet = excel.active\n",
    "excelSheet.append([\"Product Number\" ,\"Product Name\" ,\"New Price\" ,\"Old Price\" ,\"discount\" ])\n",
    "\n",
    "try:\n",
    "    req = Request(\n",
    "        url='https://www.guessfactory.com/us/en/sale/women/view-all', \n",
    "        headers={'User-Agent': 'Mozilla/5.0'}\n",
    "    )\n",
    "    webpage = urlopen(req).read()\n",
    "    # print(webpage)\n",
    "    soup = BeautifulSoup(webpage, 'html.parser')\n",
    "    # print(soup)\n",
    "    products = soup.find_all('div', class_=\"product-grid__column\")\n",
    "    # print(len(products))\n",
    "\n",
    "    n = 1\n",
    "    for product in products:\n",
    "        productNumber = n\n",
    "        productName = product.find('h3', class_=\"pdp-link product-tile__pdp-link h3-pdp\").a.text.strip()\n",
    "        productPrice = product.find('span', class_=\"price__red-color text-nowrap\").get_text(strip=True).split('$')[1]\n",
    "        productOldPrice = product.find('span', class_=\"price__strike-through\").text.strip().replace('$', '')\n",
    "        discount = product.find('span', class_=\"price__red-color d-inline-block text-nowrap\").text.strip().split(' ')[0].replace('(', '')\n",
    "        excelSheet.append([productNumber ,productName ,productPrice ,productOldPrice ,discount ])\n",
    "        n+=1\n",
    "        \n",
    "except urllib.error.HTTPError as e:\n",
    "    body = e.read().decode() \n",
    "\n",
    "excel.save(filename = 'Product Detail.xlsx')"
   ]
  },
  {
   "cell_type": "code",
   "execution_count": null,
   "metadata": {},
   "outputs": [],
   "source": []
  }
 ],
 "metadata": {
  "kernelspec": {
   "display_name": "Python 3.10.5 64-bit",
   "language": "python",
   "name": "python3"
  },
  "language_info": {
   "codemirror_mode": {
    "name": "ipython",
    "version": 3
   },
   "file_extension": ".py",
   "mimetype": "text/x-python",
   "name": "python",
   "nbconvert_exporter": "python",
   "pygments_lexer": "ipython3",
   "version": "3.10.5"
  },
  "orig_nbformat": 4,
  "vscode": {
   "interpreter": {
    "hash": "d352302e2f2b61433dca007e30b633e7a24093bda95ae5c3b87997380ae4485c"
   }
  }
 },
 "nbformat": 4,
 "nbformat_minor": 2
}
