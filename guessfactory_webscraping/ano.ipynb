{
  "cells": [
    {
      "cell_type": "code",
      "execution_count": 1,
      "metadata": {
        "id": "DtmKsMdsJ7Cp"
      },
      "outputs": [],
      "source": [
        "import requests\n",
        "import lxml\n",
        "from bs4 import BeautifulSoup\n",
        "from xlwt import *"
      ]
    },
    {
      "cell_type": "code",
      "execution_count": 2,
      "metadata": {
        "id": "4H3T6hWTav87"
      },
      "outputs": [],
      "source": [
        "url = \"https://odel.lk/deal-products\"\n",
        "\n",
        "f = requests.get(url)\n",
        "\n",
        "soup = BeautifulSoup(f.content, \"lxml\")"
      ]
    },
    {
      "cell_type": "code",
      "execution_count": 3,
      "metadata": {
        "id": "n9QS6HwvhOro"
      },
      "outputs": [],
      "source": [
        "wb = Workbook(encoding = 'utf-8')\n",
        "ws = wb.add_sheet('dataset')\n"
      ]
    },
    {
      "cell_type": "code",
      "execution_count": 4,
      "metadata": {
        "id": "2RwuqfRzhfkB"
      },
      "outputs": [],
      "source": [
        "ws.write(0, 0, \"Product number\")\n",
        "ws.write(0, 1, \"Product Name\")\n",
        "ws.write(0, 2, \"New Price\")\n",
        "ws.write(0, 3, \"OldPrice\")\n",
        "ws.write(0, 4, \"discount\")"
      ]
    },
    {
      "cell_type": "code",
      "execution_count": 5,
      "metadata": {
        "id": "0NJosiVUoSg7"
      },
      "outputs": [],
      "source": [
        "#details = soup.find_all(\"div\", id = \"search_result\")"
      ]
    },
    {
      "cell_type": "code",
      "execution_count": 6,
      "metadata": {
        "id": "ixW6wVw_b6ib"
      },
      "outputs": [],
      "source": [
        "details = soup.find_all(\"div\", class_ = \"col-sm-6 col-md-4 col-lg-3 p-b-35 product-tile-search\")\n",
        "#print(details)"
      ]
    },
    {
      "cell_type": "code",
      "execution_count": 7,
      "metadata": {
        "colab": {
          "base_uri": "https://localhost:8080/"
        },
        "id": "zMU8k0Q6cEAs",
        "outputId": "346d9a0d-e17b-4a94-d4cc-12aad1ac7e5b"
      },
      "outputs": [
        {
          "name": "stdout",
          "output_type": "stream",
          "text": [
            "item name: Odel Blue One Shoulder Maxi Dress\n",
            "item discount: 50%\n",
            "new price: LKR 2,145\n",
            "old price: LKR 4,290\n",
            "item name: Tara Navy   Side Tie Up Mini Dress\n",
            "item discount: 50%\n",
            "new price: LKR 1,395\n",
            "old price: LKR 2,790\n",
            "item name: Tara Black Shift  Mini Dress\n",
            "item discount: 50%\n",
            "new price: LKR 2,975\n",
            "old price: LKR 5,950\n",
            "item name: Closet Two Toned Mini Dress\n",
            "item discount: 50%\n",
            "new price: LKR 1,975\n",
            "old price: LKR 3,950\n",
            "item name: Closet Printed Mini Dress\n",
            "item discount: 50%\n",
            "new price: LKR 1,745\n",
            "old price: LKR 3,490\n",
            "item name: Odel  Printed Tie Up Shirt Dress\n",
            "item discount: 50%\n",
            "new price: LKR 3,375\n",
            "old price: LKR 6,750\n",
            "item name: Odel Solid Colour  Button Down  Dress\n",
            "item discount: 50%\n",
            "new price: LKR 3,250\n",
            "old price: LKR 6,500\n",
            "item name: Odel Polka Dot Tie Up Dress\n",
            "item discount: 50%\n",
            "new price: LKR 2,395\n",
            "old price: LKR 4,790\n",
            "item name: Tara Blue Shift Knee Length Dress\n",
            "item discount: 50%\n",
            "new price: LKR 3,495\n",
            "old price: LKR 6,990\n",
            "item name: Tara Solid Colour Dropped Waist Asymmetric Maxi  Dress\n",
            "item discount: 50%\n",
            "new price: LKR 2,745\n",
            "old price: LKR 5,490\n",
            "item name: Tara Solid Colour Dropped Waist Asymmetric Maxi  Dress\n",
            "item discount: 50%\n",
            "new price: LKR 2,745\n",
            "old price: LKR 5,490\n",
            "item name: Odel Red Checked Tie Waist Dress\n",
            "item discount: 50%\n",
            "new price: LKR 2,675\n",
            "old price: LKR 5,350\n",
            "item name: Odel Black Checked Tie Waist Dress\n",
            "item discount: 50%\n",
            "new price: LKR 2,675\n",
            "old price: LKR 5,350\n",
            "item name: Odel Black Stripe Low Waist Dress\n",
            "item discount: 50%\n",
            "new price: LKR 2,645\n",
            "old price: LKR 5,290\n",
            "item name: Odel Pink Halter Shift Dress\n",
            "item discount: 50%\n",
            "new price: LKR 2,975\n",
            "old price: LKR 5,950\n",
            "item name: Closet Check V Neck Bodycon Mini Dress\n",
            "item discount: 50%\n",
            "new price: LKR 2,225\n",
            "old price: LKR 4,450\n",
            "item name: Odel Printed Flounce Hem Wrap Dress\n",
            "item discount: 50%\n",
            "new price: LKR 2,895\n",
            "old price: LKR 5,790\n",
            "item name: Odel Printed Flounce Hem Wrap Dress\n",
            "item discount: 50%\n",
            "new price: LKR 2,895\n",
            "old price: LKR 5,790\n",
            "item name: Odel Embroidery  Knot Detail Puff Sleeve Dress\n",
            "item discount: 50%\n",
            "new price: LKR 3,145\n",
            "old price: LKR 6,290\n",
            "item name: Odel Printed Sholuder Belted Dress\n",
            "item discount: 50%\n",
            "new price: LKR 3,145\n",
            "old price: LKR 6,290\n",
            "item name: Odel Blue Smocked Waist Midi Dress\n",
            "item discount: 50%\n",
            "new price: LKR 2,645\n",
            "old price: LKR 5,290\n",
            "item name: Odel Green Button Down Mini Dress\n",
            "item discount: 50%\n",
            "new price: LKR 3,145\n",
            "old price: LKR 6,290\n",
            "item name: Odel Yellow Ruffle Sleeve Midi Dress\n",
            "item discount: 50%\n",
            "new price: LKR 2,145\n",
            "old price: LKR 4,290\n",
            "item name: Odel Brown Side Button Detail Mini Dress\n",
            "item discount: 50%\n",
            "new price: LKR 2,645\n",
            "old price: LKR 5,290\n",
            "item name: Biconic Polka Dot Mesh Dress\n",
            "item discount: 50%\n",
            "new price: LKR 2,895\n",
            "old price: LKR 5,790\n",
            "item name: Biconic Floral Print Ruffle Dress\n",
            "item discount: 50%\n",
            "new price: LKR 1,995\n",
            "old price: LKR 3,990\n",
            "item name: Biconic Printed Strapless Dress\n",
            "item discount: 50%\n",
            "new price: LKR 1,975\n",
            "old price: LKR 3,950\n",
            "item name: Tara Printed Bodycon Knee Lenght Skirt\n",
            "item discount: 50%\n",
            "new price: LKR 2,245\n",
            "old price: LKR 4,490\n",
            "item name: Closet Solid Colour Flutter Sleeve Mini Dress\n",
            "item discount: 50%\n",
            "new price: LKR 1,995\n",
            "old price: LKR 3,990\n",
            "item name: Closet Solid Colour Flutter Sleeve Mini Dress\n",
            "item discount: 50%\n",
            "new price: LKR 1,995\n",
            "old price: LKR 3,990\n",
            "item name: Batman Printed Sleeveless Mini Dress\n",
            "item discount: 50%\n",
            "new price: LKR 2,475\n",
            "old price: LKR 4,950\n",
            "item name: Closet Check Flutter Sleeve Mini Dress\n",
            "item discount: 50%\n",
            "new price: LKR 1,995\n",
            "old price: LKR 3,990\n",
            "item name: Closet Solid Colour Bodycon Mini Dress With Belt\n",
            "item discount: 50%\n",
            "new price: LKR 1,745\n",
            "old price: LKR 3,490\n",
            "item name: Odel Blue Square Neck Skater Mini Dress\n",
            "item discount: 50%\n",
            "new price: LKR 1,995\n",
            "old price: LKR 3,990\n",
            "item name: Odel White Belted Knee Length Dress\n",
            "item discount: 50%\n",
            "new price: LKR 2,895\n",
            "old price: LKR 5,790\n",
            "item name: Odel Printed Halter Neck Maxi Dress\n",
            "item discount: 50%\n",
            "new price: LKR 1,975\n",
            "old price: LKR 3,950\n",
            "item name: Tara Printed Flutter Sleeve Knee Length Dress\n",
            "item discount: 50%\n",
            "new price: LKR 3,745\n",
            "old price: LKR 7,490\n",
            "item name: Biconic Striped Mini Dress\n",
            "item discount: 50%\n",
            "new price: LKR 1,125\n",
            "old price: LKR 2,250\n",
            "item name: Tara Navy Blue Sleeveless Overlap Midi Dress\n",
            "item discount: 50%\n",
            "new price: LKR 4,395\n",
            "old price: LKR 8,790\n",
            "item name: Closet Black Fitted Peplum Mini Dress\n",
            "item discount: 50%\n",
            "new price: LKR 2,245\n",
            "old price: LKR 4,490\n"
          ]
        }
      ],
      "source": [
        "product_number = 0\n",
        "line = 0\n",
        "\n",
        "for i in details:\n",
        "\n",
        "  product_number += 1\n",
        "  line += 1\n",
        "  \n",
        "  item_name = i.find(\"a\", class_ = \"stext-104 cl4 hov-cl1 trans-04 js-name-b2 p-b-6\").text.strip()\n",
        "  item_discount = i.find(\"div\", class_ = \"product_tag_discount\").text.strip()\n",
        "  new_price = i.find(\"span\", class_ = \"stext-105 cl3\").text.strip()\n",
        "  old_price = i.find(\"del\").text.strip()\n",
        "\n",
        "  print(\"item name:\" ,item_name)\n",
        "  print(\"item discount:\" ,item_discount)\n",
        "  print(\"new price:\" ,new_price)\n",
        "  print(\"old price:\" ,old_price)\n",
        "\n",
        "  ws.write(line, 0, product_number)\n",
        "  ws.write(line, 1, item_name)\n",
        "  ws.write(line, 2, new_price)\n",
        "  ws.write(line, 3, old_price)\n",
        "  ws.write(line, 4, item_discount)\n",
        "  "
      ]
    },
    {
      "cell_type": "code",
      "execution_count": 8,
      "metadata": {
        "id": "uUJHinHLcxDs"
      },
      "outputs": [],
      "source": [
        "wb.save(\"odel_details.xls\")\n"
      ]
    },
    {
      "cell_type": "code",
      "execution_count": null,
      "metadata": {
        "id": "VSy2P3Ixj5qn"
      },
      "outputs": [],
      "source": []
    }
  ],
  "metadata": {
    "colab": {
      "provenance": []
    },
    "kernelspec": {
      "display_name": "Python 3.10.5 64-bit",
      "language": "python",
      "name": "python3"
    },
    "language_info": {
      "codemirror_mode": {
        "name": "ipython",
        "version": 3
      },
      "file_extension": ".py",
      "mimetype": "text/x-python",
      "name": "python",
      "nbconvert_exporter": "python",
      "pygments_lexer": "ipython3",
      "version": "3.10.5"
    },
    "vscode": {
      "interpreter": {
        "hash": "d352302e2f2b61433dca007e30b633e7a24093bda95ae5c3b87997380ae4485c"
      }
    }
  },
  "nbformat": 4,
  "nbformat_minor": 0
}
