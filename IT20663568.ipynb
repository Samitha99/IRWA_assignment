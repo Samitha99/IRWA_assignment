{
  "nbformat": 4,
  "nbformat_minor": 0,
  "metadata": {
    "colab": {
      "provenance": [],
      "authorship_tag": "ABX9TyPML2wvluve/U/Xp9xEgJ6A",
      "include_colab_link": true
    },
    "kernelspec": {
      "name": "python3",
      "display_name": "Python 3"
    },
    "language_info": {
      "name": "python"
    }
  },
  "cells": [
    {
      "cell_type": "markdown",
      "metadata": {
        "id": "view-in-github",
        "colab_type": "text"
      },
      "source": [
        "<a href=\"https://colab.research.google.com/github/Samitha99/IRWA_assignment/blob/main/IT20663568.ipynb\" target=\"_parent\"><img src=\"https://colab.research.google.com/assets/colab-badge.svg\" alt=\"Open In Colab\"/></a>"
      ]
    },
    {
      "cell_type": "code",
      "execution_count": null,
      "metadata": {
        "id": "r3kwlfGjb9SZ"
      },
      "outputs": [],
      "source": [
        "import requests\n",
        "import re\n",
        "import openpyxl\n",
        "from bs4 import BeautifulSoup\n",
        "\n",
        "excel = openpyxl.Workbook()\n",
        "excelS = excel.active\n",
        "excelS.append([\"Product Number\" ,\"Product Name\" ,\"New Price\" ,\"Old Price\" ,\"discount\" ])\n",
        "\n",
        "try:\n",
        "  soures = requests.get('https://odel.lk/deal-products')\n",
        "  soures.raise_for_status\n",
        "\n",
        "  soup = BeautifulSoup(soures.text, 'html.parser')\n",
        "  products = soup.find('div', class_='row', id=re.compile('search_result$')).find_all(class_=\"col-sm-6 col-md-4 col-lg-3 p-b-35 product-tile-search\")\n",
        "  num = 1\n",
        "  for product in products:\n",
        "    productNumber = num\n",
        "    name = product.find(\"div\", class_=\"block2-txt-child1 flex-col-l\").a.text.strip()\n",
        "    price = product.find(\"span\", class_=\"stext-105 cl3\").text.strip().replace('LKR ', '')\n",
        "    oldPrice = product.find(\"del\").text.strip().replace('LKR ', '')\n",
        "    discount = product.find(\"div\", class_=\"product_tag_discount\").text\n",
        "    num = num + 1\n",
        "    excelS.append([productNumber ,name ,price ,oldPrice ,discount ])\n",
        "    \n",
        "\n",
        "\n",
        "except Exception as e:\n",
        "  print(e)\n",
        "  exit()\n",
        "\n",
        "excel.save(filename = 'Product Details.xlsx')"
      ]
    },
    {
      "cell_type": "code",
      "source": [
        "ls"
      ],
      "metadata": {
        "id": "DP0e5kJbrwLd",
        "outputId": "7f47c116-899f-4fed-f39e-f13a5a6e5d19",
        "colab": {
          "base_uri": "https://localhost:8080/"
        }
      },
      "execution_count": null,
      "outputs": [
        {
          "output_type": "stream",
          "name": "stdout",
          "text": [
            "\u001b[0m\u001b[01;34msample_data\u001b[0m/\n"
          ]
        }
      ]
    },
    {
      "cell_type": "code",
      "source": [],
      "metadata": {
        "id": "9YSKo-xarwuJ"
      },
      "execution_count": null,
      "outputs": []
    }
  ]
}